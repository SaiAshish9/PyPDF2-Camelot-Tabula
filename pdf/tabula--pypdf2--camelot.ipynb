{
 "cells": [
  {
   "cell_type": "code",
   "execution_count": 3,
   "metadata": {},
   "outputs": [],
   "source": [
    "from tabula import read_pdf"
   ]
  },
  {
   "cell_type": "code",
   "execution_count": 12,
   "metadata": {},
   "outputs": [],
   "source": [
    "# data=read_pdf('data.pdf',pages=all)\n",
    "data=read_pdf('data.pdf',pages=[92,96])\n",
    "data1=read_pdf('data.pdf',pages=92)\n"
   ]
  },
  {
   "cell_type": "code",
   "execution_count": 10,
   "metadata": {},
   "outputs": [
    {
     "data": {
      "text/plain": [
       "2"
      ]
     },
     "execution_count": 10,
     "metadata": {},
     "output_type": "execute_result"
    }
   ],
   "source": [
    "len(data)"
   ]
  },
  {
   "cell_type": "code",
   "execution_count": 25,
   "metadata": {},
   "outputs": [],
   "source": [
    "import pandas as pd\n",
    "import tabula\n",
    "# python -m pip install tabula-py --user"
   ]
  },
  {
   "cell_type": "code",
   "execution_count": 20,
   "metadata": {},
   "outputs": [
    {
     "data": {
      "text/html": [
       "<div>\n",
       "<style scoped>\n",
       "    .dataframe tbody tr th:only-of-type {\n",
       "        vertical-align: middle;\n",
       "    }\n",
       "\n",
       "    .dataframe tbody tr th {\n",
       "        vertical-align: top;\n",
       "    }\n",
       "\n",
       "    .dataframe thead th {\n",
       "        text-align: right;\n",
       "    }\n",
       "</style>\n",
       "<table border=\"1\" class=\"dataframe\">\n",
       "  <thead>\n",
       "    <tr style=\"text-align: right;\">\n",
       "      <th></th>\n",
       "      <th>Unnamed: 0</th>\n",
       "      <th>Unnamed: 1</th>\n",
       "      <th>Real GDP</th>\n",
       "      <th>Consumer Prices1</th>\n",
       "      <th>Current Account Balance2</th>\n",
       "      <th>Unnamed: 2</th>\n",
       "      <th>Unemployment3</th>\n",
       "    </tr>\n",
       "  </thead>\n",
       "  <tbody>\n",
       "    <tr>\n",
       "      <th>0</th>\n",
       "      <td>NaN</td>\n",
       "      <td>NaN</td>\n",
       "      <td>Projections</td>\n",
       "      <td>Projections</td>\n",
       "      <td>Projections</td>\n",
       "      <td>NaN</td>\n",
       "      <td>Projections</td>\n",
       "    </tr>\n",
       "    <tr>\n",
       "      <th>1</th>\n",
       "      <td>NaN</td>\n",
       "      <td>2012</td>\n",
       "      <td>2013 2014</td>\n",
       "      <td>2012 2013 2014</td>\n",
       "      <td>2012 2013 2014</td>\n",
       "      <td>2012</td>\n",
       "      <td>2013 2014</td>\n",
       "    </tr>\n",
       "    <tr>\n",
       "      <th>2</th>\n",
       "      <td>Middle East and North Africa</td>\n",
       "      <td>4.6</td>\n",
       "      <td>2.1 3.8</td>\n",
       "      <td>10.8 12.3 10.3</td>\n",
       "      <td>13.2 10.3 9.3</td>\n",
       "      <td>. . .</td>\n",
       "      <td>. . . . . .</td>\n",
       "    </tr>\n",
       "    <tr>\n",
       "      <th>3</th>\n",
       "      <td>Oil Exporters4</td>\n",
       "      <td>5.4</td>\n",
       "      <td>1.9 4.0</td>\n",
       "      <td>11.4 13.8 10.8</td>\n",
       "      <td>17.4 13.9 12.4</td>\n",
       "      <td>. . .</td>\n",
       "      <td>. . . . . .</td>\n",
       "    </tr>\n",
       "    <tr>\n",
       "      <th>4</th>\n",
       "      <td>Iran5</td>\n",
       "      <td>–1.9</td>\n",
       "      <td>–1.5 1.3</td>\n",
       "      <td>30.5 42.3 29.0</td>\n",
       "      <td>5.0 3.1 0.3</td>\n",
       "      <td>12.2</td>\n",
       "      <td>13.2 14.5</td>\n",
       "    </tr>\n",
       "  </tbody>\n",
       "</table>\n",
       "</div>"
      ],
      "text/plain": [
       "                     Unnamed: 0 Unnamed: 1     Real GDP Consumer Prices1  \\\n",
       "0                           NaN        NaN  Projections      Projections   \n",
       "1                           NaN       2012    2013 2014   2012 2013 2014   \n",
       "2  Middle East and North Africa        4.6      2.1 3.8   10.8 12.3 10.3   \n",
       "3                Oil Exporters4        5.4      1.9 4.0   11.4 13.8 10.8   \n",
       "4                         Iran5       –1.9     –1.5 1.3   30.5 42.3 29.0   \n",
       "\n",
       "  Current Account Balance2 Unnamed: 2 Unemployment3  \n",
       "0              Projections        NaN   Projections  \n",
       "1           2012 2013 2014       2012     2013 2014  \n",
       "2            13.2 10.3 9.3      . . .   . . . . . .  \n",
       "3           17.4 13.9 12.4      . . .   . . . . . .  \n",
       "4              5.0 3.1 0.3       12.2     13.2 14.5  "
      ]
     },
     "execution_count": 20,
     "metadata": {},
     "output_type": "execute_result"
    }
   ],
   "source": [
    "pd.DataFrame(pd.DataFrame(data1)[0][0]).head()"
   ]
  },
  {
   "cell_type": "code",
   "execution_count": 24,
   "metadata": {},
   "outputs": [],
   "source": [
    "tabula.convert_into('data.pdf','data.csv',output_format='csv',pages=19)"
   ]
  },
  {
   "cell_type": "code",
   "execution_count": 1,
   "metadata": {},
   "outputs": [],
   "source": [
    "import glob"
   ]
  },
  {
   "cell_type": "code",
   "execution_count": 3,
   "metadata": {},
   "outputs": [],
   "source": [
    "from natsort import natsorted #python -m pip install pyPDF2 natsort --user"
   ]
  },
  {
   "cell_type": "code",
   "execution_count": 6,
   "metadata": {},
   "outputs": [],
   "source": [
    "import PyPDF2"
   ]
  },
  {
   "cell_type": "code",
   "execution_count": 7,
   "metadata": {},
   "outputs": [],
   "source": [
    "pdfs=glob.glob('test/*.pdf')"
   ]
  },
  {
   "cell_type": "code",
   "execution_count": 9,
   "metadata": {},
   "outputs": [
    {
     "data": {
      "text/plain": [
       "['test\\\\test.pdf', 'test\\\\test1.pdf']"
      ]
     },
     "execution_count": 9,
     "metadata": {},
     "output_type": "execute_result"
    }
   ],
   "source": [
    "pdfs"
   ]
  },
  {
   "cell_type": "code",
   "execution_count": 10,
   "metadata": {},
   "outputs": [],
   "source": [
    "result='result.pdf'"
   ]
  },
  {
   "cell_type": "code",
   "execution_count": 11,
   "metadata": {},
   "outputs": [],
   "source": [
    "merge=PyPDF2.PdfFileMerger()"
   ]
  },
  {
   "cell_type": "code",
   "execution_count": 14,
   "metadata": {},
   "outputs": [
    {
     "name": "stderr",
     "output_type": "stream",
     "text": [
      "PdfReadWarning: Xref table not zero-indexed. ID numbers for objects will be corrected. [pdf.py:1736]\n"
     ]
    }
   ],
   "source": [
    "for pdf in natsorted(pdfs):\n",
    "    merge.append(open(pdf,'rb'))"
   ]
  },
  {
   "cell_type": "code",
   "execution_count": 16,
   "metadata": {},
   "outputs": [],
   "source": [
    "merge.write(open(result,'wb'))"
   ]
  },
  {
   "cell_type": "code",
   "execution_count": 23,
   "metadata": {},
   "outputs": [
    {
     "data": {
      "text/plain": [
       "'  PDF Test File  Congratulations, your computer is equipped with a PDF (Portable Document Format) reader!  You should be able to view any of the PDF documents and forms available on our site.  PDF forms are indicated by these icons: \\n  or  \\n.    Yukon Department of Education Box 2703 Whitehorse,Yukon Canada Y1A 2C6  Please visit our website at:  \\nhttp://www.education.gov.yk.ca/\\n   '"
      ]
     },
     "execution_count": 23,
     "metadata": {},
     "output_type": "execute_result"
    }
   ],
   "source": [
    "PyPDF2.PdfFileReader(open(result,'rb')).getPage(0).extractText()"
   ]
  },
  {
   "cell_type": "markdown",
   "metadata": {},
   "source": [
    "ghostscript  python -m pip install camelot-py[cv] tk wheel --user                \n",
    "conda install -c conda-forge camelot-py"
   ]
  },
  {
   "cell_type": "code",
   "execution_count": 19,
   "metadata": {},
   "outputs": [],
   "source": [
    "import camelot"
   ]
  },
  {
   "cell_type": "code",
   "execution_count": 20,
   "metadata": {},
   "outputs": [],
   "source": [
    "tables=camelot.read_pdf('res.pdf')"
   ]
  },
  {
   "cell_type": "code",
   "execution_count": 23,
   "metadata": {},
   "outputs": [
    {
     "name": "stdout",
     "output_type": "stream",
     "text": [
      "                       0             1                    2  \\\n",
      "0  Disability \\nCategory  Participants  Ballots \\nCompleted   \n",
      "1                                                             \n",
      "2                  Blind             5                    1   \n",
      "3             Low Vision             5                    2   \n",
      "4              Dexterity             5                    4   \n",
      "5               Mobility             3                    3   \n",
      "\n",
      "                                    3                         4  \\\n",
      "0  Ballots \\nIncomplete/ \\nTerminated                   Results   \n",
      "1                                                      Accuracy   \n",
      "2                                   4                34.5%, n=1   \n",
      "3                                   3  98.3% n=2 \\n(97.7%, n=3)   \n",
      "4                                   1                98.3%, n=4   \n",
      "5                                   0                95.4%, n=3   \n",
      "\n",
      "                                 5  \n",
      "0                                   \n",
      "1               Time to \\ncomplete  \n",
      "2                    1199 sec, n=1  \n",
      "3  1716 sec, n=3 \\n(1934 sec, n=2)  \n",
      "4                  1672.1 sec, n=4  \n",
      "5                    1416 sec, n=3  \n"
     ]
    }
   ],
   "source": [
    "for table in tables:\n",
    "    print(table.df)"
   ]
  },
  {
   "cell_type": "code",
   "execution_count": 26,
   "metadata": {},
   "outputs": [
    {
     "data": {
      "text/html": [
       "<div>\n",
       "<style scoped>\n",
       "    .dataframe tbody tr th:only-of-type {\n",
       "        vertical-align: middle;\n",
       "    }\n",
       "\n",
       "    .dataframe tbody tr th {\n",
       "        vertical-align: top;\n",
       "    }\n",
       "\n",
       "    .dataframe thead th {\n",
       "        text-align: right;\n",
       "    }\n",
       "</style>\n",
       "<table border=\"1\" class=\"dataframe\">\n",
       "  <thead>\n",
       "    <tr style=\"text-align: right;\">\n",
       "      <th></th>\n",
       "    </tr>\n",
       "  </thead>\n",
       "  <tbody>\n",
       "  </tbody>\n",
       "</table>\n",
       "</div>"
      ],
      "text/plain": [
       "Empty DataFrame\n",
       "Columns: []\n",
       "Index: []"
      ]
     },
     "execution_count": 26,
     "metadata": {},
     "output_type": "execute_result"
    }
   ],
   "source": [
    "pd.DataFrame(tables[0].to_csv('1.csv'))\n",
    "pd.DataFrame(tables[0].to_excel('1.xlsx',index=False))"
   ]
  },
  {
   "cell_type": "code",
   "execution_count": 27,
   "metadata": {},
   "outputs": [
    {
     "data": {
      "text/html": [
       "<div>\n",
       "<style scoped>\n",
       "    .dataframe tbody tr th:only-of-type {\n",
       "        vertical-align: middle;\n",
       "    }\n",
       "\n",
       "    .dataframe tbody tr th {\n",
       "        vertical-align: top;\n",
       "    }\n",
       "\n",
       "    .dataframe thead th {\n",
       "        text-align: right;\n",
       "    }\n",
       "</style>\n",
       "<table border=\"1\" class=\"dataframe\">\n",
       "  <thead>\n",
       "    <tr style=\"text-align: right;\">\n",
       "      <th></th>\n",
       "      <th>Disability \\nCategory</th>\n",
       "      <th>Participants</th>\n",
       "      <th>Ballots \\nCompleted</th>\n",
       "      <th>Ballots \\nIncomplete/ \\nTerminated</th>\n",
       "      <th>Results</th>\n",
       "      <th>Unnamed: 5</th>\n",
       "    </tr>\n",
       "  </thead>\n",
       "  <tbody>\n",
       "    <tr>\n",
       "      <th>0</th>\n",
       "      <td>NaN</td>\n",
       "      <td>NaN</td>\n",
       "      <td>NaN</td>\n",
       "      <td>NaN</td>\n",
       "      <td>Accuracy</td>\n",
       "      <td>Time to \\ncomplete</td>\n",
       "    </tr>\n",
       "    <tr>\n",
       "      <th>1</th>\n",
       "      <td>Blind</td>\n",
       "      <td>5.0</td>\n",
       "      <td>1.0</td>\n",
       "      <td>4.0</td>\n",
       "      <td>34.5%, n=1</td>\n",
       "      <td>1199 sec, n=1</td>\n",
       "    </tr>\n",
       "    <tr>\n",
       "      <th>2</th>\n",
       "      <td>Low Vision</td>\n",
       "      <td>5.0</td>\n",
       "      <td>2.0</td>\n",
       "      <td>3.0</td>\n",
       "      <td>98.3% n=2 \\n(97.7%, n=3)</td>\n",
       "      <td>1716 sec, n=3 \\n(1934 sec, n=2)</td>\n",
       "    </tr>\n",
       "    <tr>\n",
       "      <th>3</th>\n",
       "      <td>Dexterity</td>\n",
       "      <td>5.0</td>\n",
       "      <td>4.0</td>\n",
       "      <td>1.0</td>\n",
       "      <td>98.3%, n=4</td>\n",
       "      <td>1672.1 sec, n=4</td>\n",
       "    </tr>\n",
       "    <tr>\n",
       "      <th>4</th>\n",
       "      <td>Mobility</td>\n",
       "      <td>3.0</td>\n",
       "      <td>3.0</td>\n",
       "      <td>0.0</td>\n",
       "      <td>95.4%, n=3</td>\n",
       "      <td>1416 sec, n=3</td>\n",
       "    </tr>\n",
       "  </tbody>\n",
       "</table>\n",
       "</div>"
      ],
      "text/plain": [
       "  Disability \\nCategory  Participants  Ballots \\nCompleted  \\\n",
       "0                   NaN           NaN                  NaN   \n",
       "1                 Blind           5.0                  1.0   \n",
       "2            Low Vision           5.0                  2.0   \n",
       "3             Dexterity           5.0                  4.0   \n",
       "4              Mobility           3.0                  3.0   \n",
       "\n",
       "   Ballots \\nIncomplete/ \\nTerminated                   Results  \\\n",
       "0                                 NaN                  Accuracy   \n",
       "1                                 4.0                34.5%, n=1   \n",
       "2                                 3.0  98.3% n=2 \\n(97.7%, n=3)   \n",
       "3                                 1.0                98.3%, n=4   \n",
       "4                                 0.0                95.4%, n=3   \n",
       "\n",
       "                        Unnamed: 5  \n",
       "0               Time to \\ncomplete  \n",
       "1                    1199 sec, n=1  \n",
       "2  1716 sec, n=3 \\n(1934 sec, n=2)  \n",
       "3                  1672.1 sec, n=4  \n",
       "4                    1416 sec, n=3  "
      ]
     },
     "execution_count": 27,
     "metadata": {},
     "output_type": "execute_result"
    }
   ],
   "source": [
    "pd.read_csv('1.csv')"
   ]
  },
  {
   "cell_type": "code",
   "execution_count": null,
   "metadata": {},
   "outputs": [],
   "source": []
  }
 ],
 "metadata": {
  "kernelspec": {
   "display_name": "Python 3",
   "language": "python",
   "name": "python3"
  },
  "language_info": {
   "codemirror_mode": {
    "name": "ipython",
    "version": 3
   },
   "file_extension": ".py",
   "mimetype": "text/x-python",
   "name": "python",
   "nbconvert_exporter": "python",
   "pygments_lexer": "ipython3",
   "version": "3.7.0"
  }
 },
 "nbformat": 4,
 "nbformat_minor": 2
}
